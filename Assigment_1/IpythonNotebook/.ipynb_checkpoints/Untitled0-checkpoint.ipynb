{
 "metadata": {
  "name": "",
  "signature": "sha256:6dc6141c9b5b16a554e594bc3175a28ba65e5e81d3c7fadba2dfbe8575a5d7f5"
 },
 "nbformat": 3,
 "nbformat_minor": 0,
 "worksheets": [
  {
   "cells": [
    {
     "cell_type": "code",
     "collapsed": false,
     "input": [],
     "language": "python",
     "metadata": {},
     "outputs": []
    }
   ],
   "metadata": {}
  }
 ]
}