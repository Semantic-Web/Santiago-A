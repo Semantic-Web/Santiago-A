{
 "metadata": {
  "name": "",
  "signature": "sha256:1a5bbeb3f1d15e44cf95ba8e7eee57bd6011b7cbb2a0ae32be647bf82c5ab2c1"
 },
 "nbformat": 3,
 "nbformat_minor": 0,
 "worksheets": [
  {
   "cells": [
    {
     "cell_type": "markdown",
     "metadata": {},
     "source": [
      "#Assignment 1"
     ]
    },
    {
     "cell_type": "markdown",
     "metadata": {},
     "source": [
      "##analyze the data here: http://catalog.data.gov/dataset/data-gov-visitor-metrics\n",
      "\n",
      "Aggregate the data by organization. \n",
      "For the date period given in the file, create and pretty print a table to show the top ten organizations (in terms of total views of the data during this period). \n",
      "Plot a barchart."
     ]
    },
    {
     "cell_type": "code",
     "collapsed": false,
     "input": [
      "print \"changes the directory to where you downloaded the data \\n\"\n",
      "\n",
      "fileName = \"datagovdatasetsviewmetrics.csv\"\n",
      "\n",
      "print \"path: \" \n",
      "%cd C:\\Users\\santiago\\Documents\\IPython Notebooks\\SemanticWeb\\Assigment_1\\\n",
      "    \n",
      "print \"File Name:\\n\" + fileName"
     ],
     "language": "python",
     "metadata": {},
     "outputs": [
      {
       "output_type": "stream",
       "stream": "stdout",
       "text": [
        "changes the directory to where you downloaded the data \n",
        "\n",
        "path: \n",
        "C:\\Users\\santiago\\Documents\\IPython Notebooks\\SemanticWeb\\Assigment_1\n",
        "File Name:\n",
        "datagovdatasetsviewmetrics.csv\n"
       ]
      }
     ],
     "prompt_number": 11
    },
    {
     "cell_type": "code",
     "collapsed": false,
     "input": [
      "import pandas as pd\n",
      "from pandas import DataFrame as df"
     ],
     "language": "python",
     "metadata": {},
     "outputs": [],
     "prompt_number": 13
    },
    {
     "cell_type": "code",
     "collapsed": false,
     "input": [
      "print \"*\"*100\n",
      "print \"Reading Data\"\n",
      "data = pd.read_csv(fileName)\n",
      "print\"done...\"\n",
      "print \"*\"*100"
     ],
     "language": "python",
     "metadata": {},
     "outputs": [
      {
       "output_type": "stream",
       "stream": "stdout",
       "text": [
        "****************************************************************************************************\n",
        "Reading Data\n",
        "done..."
       ]
      },
      {
       "output_type": "stream",
       "stream": "stdout",
       "text": [
        "\n",
        "****************************************************************************************************\n"
       ]
      }
     ],
     "prompt_number": 19
    },
    {
     "cell_type": "code",
     "collapsed": false,
     "input": [
      "print \"*\"*100\n",
      "print \"Grouping by Organization Name, then adding the repeated fields\"\n",
      "\n",
      "group = data.groupby('Organization Name')\n",
      "\n",
      "groupSum = group.sum()\n",
      "\n",
      "print\"done...\"\n",
      "print \"*\"*100"
     ],
     "language": "python",
     "metadata": {},
     "outputs": [
      {
       "output_type": "stream",
       "stream": "stdout",
       "text": [
        "****************************************************************************************************\n",
        "Grouping by Organization Name, then adding the repeated fields\n",
        "done..."
       ]
      },
      {
       "output_type": "stream",
       "stream": "stdout",
       "text": [
        "\n",
        "****************************************************************************************************\n"
       ]
      }
     ],
     "prompt_number": 21
    },
    {
     "cell_type": "code",
     "collapsed": false,
     "input": [
      "print \"*\"*100\n",
      "print \"Formting the data\"\n",
      "\n",
      "Organization_Name = groupSum.T.columns.tolist() #transpose\n",
      "Views_per_Month = groupSum.values\n",
      "\n",
      "print\"done...\"\n",
      "print \"*\"*100"
     ],
     "language": "python",
     "metadata": {},
     "outputs": [
      {
       "output_type": "stream",
       "stream": "stdout",
       "text": [
        "****************************************************************************************************\n",
        "Formting the data\n",
        "done...\n",
        "****************************************************************************************************\n"
       ]
      }
     ],
     "prompt_number": 24
    },
    {
     "cell_type": "code",
     "collapsed": false,
     "input": [
      "print \"*\"*100\n",
      "print \"Takes the Views_per_Month array that was in an array of arrays and converts it into a single simple array\"\n",
      "\n",
      "view = []\n",
      "for i in range(len(Views_per_Month)):\n",
      "    _data = Views_per_Month[i]\n",
      "    view.append(_data[0])\n",
      "    \n",
      "Views_per_Month = view\n",
      "\n",
      "print \"done...\"\n",
      "print \"*\"*100"
     ],
     "language": "python",
     "metadata": {},
     "outputs": [
      {
       "output_type": "stream",
       "stream": "stdout",
       "text": [
        "****************************************************************************************************\n",
        "Takes the Views_per_Month array that was in an array of arrays and converts it into a single simple array\n",
        "done...\n",
        "****************************************************************************************************\n"
       ]
      }
     ],
     "prompt_number": 25
    },
    {
     "cell_type": "code",
     "collapsed": false,
     "input": [
      "print \"*\"*100  \n",
      "print \"Combines Organization_Name and Views_per_Month into a single data_array\"\n",
      "\n",
      "data_array = []\n",
      "\n",
      "for i in range(len(Views_per_Month)):\n",
      "    _Views_per_Month = Views_per_Month[i]\n",
      "    _Organization_Name = Organization_Name[i]\n",
      "    data_array.append((_Organization_Name,_Views_per_Month))\n",
      "\n",
      "print \"done...\"\n",
      "print \"*\"*100  "
     ],
     "language": "python",
     "metadata": {},
     "outputs": [
      {
       "output_type": "stream",
       "stream": "stdout",
       "text": [
        "****************************************************************************************************\n",
        "Combines Organization_Name and Views_per_Month into a single data_array\n",
        "done...\n",
        "****************************************************************************************************\n"
       ]
      }
     ],
     "prompt_number": 26
    },
    {
     "cell_type": "code",
     "collapsed": false,
     "input": [
      "print \"*\"*100\n",
      "print \"Sorting data_array by highest to lower order\"\n",
      "\n",
      "sorted_data_array = sorted(data_array,key=lambda x: x[1],reverse=True)\n",
      "  \n",
      "print \"done...\"\n",
      "print \"*\"*100"
     ],
     "language": "python",
     "metadata": {},
     "outputs": [
      {
       "output_type": "stream",
       "stream": "stdout",
       "text": [
        "****************************************************************************************************\n",
        "Sorting data_array by highest to lower order\n",
        "done...\n",
        "****************************************************************************************************\n"
       ]
      }
     ],
     "prompt_number": 27
    },
    {
     "cell_type": "code",
     "collapsed": false,
     "input": [
      "print \"*\"*100\n",
      "print \"The top 10 Organization\"\n",
      "\n",
      "final_array = []\n",
      "Num_of_Organization = 10\n",
      "for i in range(0,Num_of_Organization):\n",
      "    final_array.append(sorted_data_array[i])\n",
      "\n",
      "from prettytable import PrettyTable\n",
      "\n",
      "data_table = PrettyTable([\"Organization Name\", \"Views per Month\"])\n",
      "data_table.align[\"Organization Name\"] = \"l\" # Left align city names\n",
      "data_table.padding_width = 1 # One space between column edges and contents (default)\n",
      "\n",
      "for i in range(len(final_array)):\n",
      "    data_table.add_row(final_array[i])\n",
      "\n",
      "print data_table\n",
      "print \"*\"*100"
     ],
     "language": "python",
     "metadata": {},
     "outputs": [
      {
       "output_type": "stream",
       "stream": "stdout",
       "text": [
        "****************************************************************************************************\n",
        "The top 10 Organization\n",
        "+-------------------------------------------------------------------------+-----------------+\n",
        "| Organization Name                                                       | Views per Month |\n",
        "+-------------------------------------------------------------------------+-----------------+\n",
        "| US Census Bureau, Department of Commerce                                |      178510     |\n",
        "| National Oceanic and Atmospheric Administration, Department of Commerce |      155713     |\n",
        "| U.S. Geological Survey, Department of the Interior                      |      109848     |\n",
        "| U.S. Department of Health & Human Services                              |      93297      |\n",
        "| Department of Agriculture                                               |      76948      |\n",
        "| Department of Defense                                                   |      45886      |\n",
        "| Earth Data Analysis Center, University of New Mexico                    |      41974      |\n",
        "| Department of Education                                                 |      39064      |\n",
        "| Department of Transportation                                            |      37620      |\n",
        "| General Services Administration                                         |      31281      |\n",
        "+-------------------------------------------------------------------------+-----------------+\n",
        "****************************************************************************************************\n"
       ]
      }
     ],
     "prompt_number": 28
    },
    {
     "cell_type": "markdown",
     "metadata": {},
     "source": [
      "#Now that we have the data let's plot it"
     ]
    },
    {
     "cell_type": "code",
     "collapsed": false,
     "input": [
      "values = []\n",
      "labels = []\n",
      "\n",
      "for (Organization_Name, Views_per_Month) in final_array:\n",
      "    labels.append(Organization_Name)\n",
      "    values.append(Views_per_Month)\n",
      "\n",
      "#Abreviates the data\n",
      "length = 20\n",
      "short_labels = []\n",
      "for i in range(len(labels)):\n",
      "    _data = labels[i]\n",
      "    \n",
      "    txt = \"\"\n",
      "    \n",
      "    if(len(_data) > length):\n",
      "        for j in range(0,length):\n",
      "            txt = txt + _data[j]\n",
      "        txt = txt+\"...\"\n",
      "    else:\n",
      "        txt = _data\n",
      "    short_labels.append(txt)\n",
      "\n",
      "import numpy as np\n",
      "from matplotlib import pyplot as plt\n",
      "%matplotlib inline\n",
      "\n",
      "fig = plt.figure()\n",
      "\n",
      "width = .35\n",
      "ind = np.arange(len(values))\n",
      "plt.bar(ind, values)\n",
      "plt.xticks(ind + width / 2, short_labels)\n",
      "\n",
      "plt.xticks(rotation='vertical')\n",
      "\n",
      "plt.subplots_adjust(bottom=.4)\n",
      "\n",
      "plt.show()"
     ],
     "language": "python",
     "metadata": {},
     "outputs": [
      {
       "metadata": {},
       "output_type": "display_data",
       "png": "[encoded data removed]",
       "text": [
        "<matplotlib.figure.Figure at 0xf365a20>"
       ]
      }
     ],
     "prompt_number": 31
    },
    {
     "cell_type": "code",
     "collapsed": false,
     "input": [],
     "language": "python",
     "metadata": {},
     "outputs": []
    }
   ],
   "metadata": {}
  }
 ]
}